{
 "cells": [
  {
   "cell_type": "markdown",
   "id": "75069da3",
   "metadata": {},
   "source": [
    "# Function to calculate total marks and grade"
   ]
  },
  {
   "cell_type": "code",
   "execution_count": 1,
   "id": "417f107d",
   "metadata": {},
   "outputs": [],
   "source": [
    "import csv"
   ]
  },
  {
   "cell_type": "code",
   "execution_count": 2,
   "id": "3f2537b8",
   "metadata": {},
   "outputs": [
    {
     "name": "stdout",
     "output_type": "stream",
     "text": [
      "Enter Student 1's Name: om\n",
      "Enter marks for Subject 1: 78\n",
      "Enter marks for Subject 2: 88\n",
      "Enter marks for Subject 3: 81\n",
      "Enter marks for Subject 4: 56\n",
      "Enter marks for Subject 5: 76\n",
      "Enter Student 2's Name: sai\n",
      "Enter marks for Subject 1: 77\n",
      "Enter marks for Subject 2: 78\n",
      "Enter marks for Subject 3: 67\n",
      "Enter marks for Subject 4: 78\n",
      "Enter marks for Subject 5: 84\n",
      "Enter Student 3's Name: ram\n",
      "Enter marks for Subject 1: 66\n",
      "Enter marks for Subject 2: 69\n",
      "Enter marks for Subject 3: 51\n",
      "Enter marks for Subject 4: 70\n",
      "Enter marks for Subject 5: 62\n",
      "Enter Student 4's Name: radha\n",
      "Enter marks for Subject 1: 81\n",
      "Enter marks for Subject 2: 82\n",
      "Enter marks for Subject 3: 83\n",
      "Enter marks for Subject 4: 84\n",
      "Enter marks for Subject 5: 85\n",
      "Enter Student 5's Name: Kishan\n",
      "Enter marks for Subject 1: 90\n",
      "Enter marks for Subject 2: 91\n",
      "Enter marks for Subject 3: 92\n",
      "Enter marks for Subject 4: 93\n",
      "Enter marks for Subject 5: 94\n",
      "Enter Student 6's Name: krishna\n",
      "Enter marks for Subject 1: 71\n",
      "Enter marks for Subject 2: 82\n",
      "Enter marks for Subject 3: 75\n",
      "Enter marks for Subject 4: 87\n",
      "Enter marks for Subject 5: 95\n",
      "Enter Student 7's Name: gopal\n",
      "Enter marks for Subject 1: 78\n",
      "Enter marks for Subject 2: 79\n",
      "Enter marks for Subject 3: 80\n",
      "Enter marks for Subject 4: 81\n",
      "Enter marks for Subject 5: 82\n",
      "Enter Student 8's Name: gopi\n",
      "Enter marks for Subject 1: 89\n",
      "Enter marks for Subject 2: 90\n",
      "Enter marks for Subject 3: 72\n",
      "Enter marks for Subject 4: 73\n",
      "Enter marks for Subject 5: 74\n",
      "Enter Student 9's Name: siya\n",
      "Enter marks for Subject 1: 86\n",
      "Enter marks for Subject 2: 88\n",
      "Enter marks for Subject 3: 80\n",
      "Enter marks for Subject 4: 81\n",
      "Enter marks for Subject 5: 82\n",
      "Enter Student 10's Name: shiv\n",
      "Enter marks for Subject 1: 95\n",
      "Enter marks for Subject 2: 96\n",
      "Enter marks for Subject 3: 97\n",
      "Enter marks for Subject 4: 98\n",
      "Enter marks for Subject 5: 99\n"
     ]
    }
   ],
   "source": [
    "def calculate_grade(marks):\n",
    "    total_marks = sum(marks)\n",
    "    per = total_marks / len(marks)\n",
    "\n",
    "    if per >= 90:\n",
    "        grade = 'A+'\n",
    "    elif 80 <= per < 90:\n",
    "        grade = 'A'\n",
    "    elif 70 <= per < 80:\n",
    "        grade = 'B'\n",
    "    elif 60 <= per < 70:\n",
    "        grade = 'C'\n",
    "    else:\n",
    "        grade = 'F'\n",
    "\n",
    "    return total_marks, grade\n",
    "\n",
    "# Create a result table and enter student details\n",
    "result_table = []\n",
    "for i in range(1, 11):\n",
    "    student_id = i\n",
    "    student_name = input(f\"Enter Student {i}'s Name: \")\n",
    "    subject_marks = []\n",
    "    for j in range(5):\n",
    "        subject_marks.append(int(input(f\"Enter marks for Subject {j + 1}: \")))\n",
    "\n",
    "    total_marks, grade = calculate_grade(subject_marks)\n",
    "\n",
    "    result_table.append([student_id, student_name] + subject_marks +[total_marks, grade])"
   ]
  },
  {
   "cell_type": "markdown",
   "id": "f2332826",
   "metadata": {},
   "source": [
    "# Dump table into csv file \"result.csv\"."
   ]
  },
  {
   "cell_type": "code",
   "execution_count": 3,
   "id": "053db383",
   "metadata": {},
   "outputs": [],
   "source": [
    "with open('result.csv', 'w', newline='') as file:\n",
    "    writer = csv.writer(file)\n",
    "    writer.writerow(['Student ID', 'Student Name', 'Subject 1','Subject 2', 'Subject 3', 'Subject 4', 'Subject 5', 'Total Marks','Grade'])\n",
    "    writer.writerows(result_table)"
   ]
  },
  {
   "cell_type": "markdown",
   "id": "420d5797",
   "metadata": {},
   "source": [
    "# Read result.csv file and Print Total Marks and Grade of each student. Also Append Total Marks and Grade column into result.csv file."
   ]
  },
  {
   "cell_type": "code",
   "execution_count": 4,
   "id": "2c698911",
   "metadata": {},
   "outputs": [
    {
     "name": "stdout",
     "output_type": "stream",
     "text": [
      "Student ID: 1, Student Name:om, Total Marks: 379, Grade: B\n",
      "Student ID: 2, Student Name:sai, Total Marks: 384, Grade: B\n",
      "Student ID: 3, Student Name:ram, Total Marks: 318, Grade: C\n",
      "Student ID: 4, Student Name:radha, Total Marks: 415, Grade: A\n",
      "Student ID: 5, Student Name:Kishan, Total Marks: 460, Grade: A+\n",
      "Student ID: 6, Student Name:krishna, Total Marks: 410, Grade: A\n",
      "Student ID: 7, Student Name:gopal, Total Marks: 400, Grade: A\n",
      "Student ID: 8, Student Name:gopi, Total Marks: 398, Grade: B\n",
      "Student ID: 9, Student Name:siya, Total Marks: 417, Grade: A\n",
      "Student ID: 10, Student Name:shiv, Total Marks: 485, Grade: A+\n"
     ]
    }
   ],
   "source": [
    "with open('result.csv', 'r') as file:\n",
    "    reader = csv.reader(file)\n",
    "    next(reader)  # Skip header row\n",
    "    for row in reader:\n",
    "        student_id, student_name, *subject_marks, total_marks, grade = row\n",
    "        print(f\"Student ID: {student_id}, Student Name:{student_name}, Total Marks: {total_marks}, Grade: {grade}\")"
   ]
  },
  {
   "cell_type": "markdown",
   "id": "22693d4d",
   "metadata": {},
   "source": [
    "# List out Top 3 Student id and name with its percentage."
   ]
  },
  {
   "cell_type": "code",
   "execution_count": 5,
   "id": "35f3420f",
   "metadata": {},
   "outputs": [
    {
     "name": "stdout",
     "output_type": "stream",
     "text": [
      "\n",
      "Top 3 Students are:\n",
      "Student ID: 10, Student Name: shiv,Percentage: 97.0%\n",
      "Student ID: 5, Student Name: Kishan,Percentage: 92.0%\n",
      "Student ID: 9, Student Name: siya,Percentage: 83.39999999999999%\n"
     ]
    }
   ],
   "source": [
    "results = sorted(result_table, key=lambda x: x[-2],reverse=True)  # Sort by total marks\n",
    "print(\"\\nTop 3 Students are:\")\n",
    "for i in range(3):\n",
    "    student_id, student_name, *_, total_marks, grade = results[i]\n",
    "    per = (int(total_marks) / 500) * 100\n",
    "    print(f\"Student ID: {student_id}, Student Name: {student_name},Percentage: {per}%\")\n"
   ]
  },
  {
   "cell_type": "markdown",
   "id": "bc9bd096",
   "metadata": {},
   "source": [
    "#  Read Python.txt file and Print it in Reverse."
   ]
  },
  {
   "cell_type": "code",
   "execution_count": 12,
   "id": "90d0805b",
   "metadata": {},
   "outputs": [
    {
     "name": "stdout",
     "output_type": "stream",
     "text": [
      ".segaugnal gnimmargorp ralupop tsom eht fo eno s'ti woN .yldipar gniworg si nohtyP fo ytiralupop ehT\n",
      ".segaugnal gnimmargorp eht fo tsom naht edoc fo senil rewef ni smargorp etirw ot uoy swolla nohtyP\n",
      ".no os dna ,tnempoleved noitacilppa dipar ,ecneics atad ,snoitacilppa bew gnipoleved rof desu s'tI .snoitacilppa fo tol a sah nohtyP\n",
      ".elbadaer yrev si edoc dna ysae si xatnys stI .nrael ot ysae si nohtyP\n",
      "?nohtyP nraeL yhW\n",
      ".srennigeb rof nrael ot egaugnal taerg a nohtyP sekam sihT\n",
      " .xatnys esu-ot-ysae ,elpmis a sah nohtyP ,srennigeb rof yletanutroF\n",
      " .sdleif rehto ynam dna ,snoitacilppa potksed ,tnempoleved bew ,gninrael enihcam ni desu si tI\n",
      ".1991 ni desaeler dna ,mussoR nav odiuG yb detaerc saw tI\n",
      ".egaugnal gnimmargorp esoprup-lareneg ralupop a si nohtyP\n"
     ]
    }
   ],
   "source": [
    "with open('C:\\\\22bca64\\\\python\\\\python.txt', 'r') as file:\n",
    "    content = file.read()\n",
    "    reversed_content = content[::-1]  # Reverse the content\n",
    "    print(reversed_content)"
   ]
  },
  {
   "cell_type": "markdown",
   "id": "e2906adf",
   "metadata": {},
   "source": [
    "# Read Python.txt file and Print total number of lines and words in it."
   ]
  },
  {
   "cell_type": "code",
   "execution_count": 13,
   "id": "7afe1d77",
   "metadata": {},
   "outputs": [
    {
     "name": "stdout",
     "output_type": "stream",
     "text": [
      "Total number of lines: 10\n",
      "Total number of words: 121\n"
     ]
    }
   ],
   "source": [
    "with open('C:\\\\22bca64\\\\python\\\\python.txt', 'r') as file:\n",
    "    lines = file.readlines()\n",
    "    tol_num_lines = len(lines)\n",
    "    words = content.split()\n",
    "    tol_num_words = len(words)\n",
    "    \n",
    "    print(f\"Total number of lines: {tol_num_lines}\")\n",
    "    print(f\"Total number of words: {tol_num_words}\")"
   ]
  },
  {
   "cell_type": "markdown",
   "id": "729e9e79",
   "metadata": {},
   "source": [
    "#  Read Python.txt file and Print unique word with its count."
   ]
  },
  {
   "cell_type": "code",
   "execution_count": 14,
   "id": "ffb85555",
   "metadata": {},
   "outputs": [
    {
     "name": "stdout",
     "output_type": "stream",
     "text": [
      "Python: 7\n",
      "is: 6\n",
      "a: 4\n",
      "popular: 2\n",
      "general-purpose: 1\n",
      "programming: 3\n",
      "language.: 1\n",
      "It: 2\n",
      "was: 1\n",
      "created: 1\n",
      "by: 1\n",
      "Guido: 1\n",
      "van: 1\n",
      "Rossum,: 1\n",
      "and: 4\n",
      "released: 1\n",
      "in: 3\n",
      "1991.: 1\n",
      "used: 2\n",
      "machine: 1\n",
      "learning,: 1\n",
      "web: 2\n",
      "development,: 2\n",
      "desktop: 1\n",
      "applications,: 2\n",
      "many: 1\n",
      "other: 1\n",
      "fields.: 1\n",
      "Fortunately: 1\n",
      "for: 3\n",
      "beginners,: 1\n",
      "has: 2\n",
      "simple,: 1\n",
      "easy-to-use: 1\n",
      "syntax.: 1\n",
      "This: 1\n",
      "makes: 1\n",
      "great: 1\n",
      "language: 1\n",
      "to: 3\n",
      "learn: 1\n",
      "beginners.: 1\n",
      "Why: 1\n",
      "Learn: 1\n",
      "Python?: 1\n",
      "easy: 2\n",
      "learn.: 1\n",
      "Its: 1\n",
      "syntax: 1\n",
      "code: 2\n",
      "very: 1\n",
      "readable.: 1\n",
      "lot: 1\n",
      "of: 5\n",
      "applications.: 1\n",
      "It's: 1\n",
      "developing: 1\n",
      "data: 1\n",
      "science,: 1\n",
      "rapid: 1\n",
      "application: 1\n",
      "so: 1\n",
      "on.: 1\n",
      "allows: 1\n",
      "you: 1\n",
      "write: 1\n",
      "programs: 1\n",
      "fewer: 1\n",
      "lines: 1\n",
      "than: 1\n",
      "most: 2\n",
      "the: 2\n",
      "languages.: 2\n",
      "The: 1\n",
      "popularity: 1\n",
      "growing: 1\n",
      "rapidly.: 1\n",
      "Now: 1\n",
      "it's: 1\n",
      "one: 1\n"
     ]
    }
   ],
   "source": [
    "with open('C:\\\\22bca64\\\\python\\\\python.txt', 'r') as file:\n",
    "    content = file.read()\n",
    "    words = content.split()\n",
    "    word_count = {}\n",
    "    \n",
    "    for word in words:\n",
    "        word_count[word] = word_count.get(word, 0) + 1\n",
    "    \n",
    "    for word, count in word_count.items():\n",
    "        print(f\"{word}: {count}\")\n"
   ]
  },
  {
   "cell_type": "markdown",
   "id": "01a71950",
   "metadata": {},
   "source": [
    "# Read Python.txt file and Print largest and smallest word from it."
   ]
  },
  {
   "cell_type": "code",
   "execution_count": 15,
   "id": "e9bfd367",
   "metadata": {},
   "outputs": [
    {
     "name": "stdout",
     "output_type": "stream",
     "text": [
      "Smallest word: a\n",
      "Largest word: general-purpose\n"
     ]
    }
   ],
   "source": [
    "with open('C:\\\\22bca64\\\\python\\\\python.txt', 'r') as file:\n",
    "    content = file.read()\n",
    "    words = content.split()\n",
    "    \n",
    "    if words:\n",
    "        smallest_word = min(words, key=len)\n",
    "        largest_word = max(words, key=len)\n",
    "        print(f\"Smallest word: {smallest_word}\")\n",
    "        print(f\"Largest word: {largest_word}\")\n",
    "    else:\n",
    "        print(\"No words found in the file.\")"
   ]
  },
  {
   "cell_type": "markdown",
   "id": "2d8987dd",
   "metadata": {},
   "source": [
    "#  Read Python.txt file. Convert it into upper case and write into another file \"Python_Upper.txt\""
   ]
  },
  {
   "cell_type": "code",
   "execution_count": 18,
   "id": "beda9837",
   "metadata": {},
   "outputs": [
    {
     "name": "stdout",
     "output_type": "stream",
     "text": [
      "File 'Python.txt' converted to upper case and saved as 'Python_Upper.txt'.\n"
     ]
    }
   ],
   "source": [
    "with open('C:\\\\22bca64\\\\python\\\\python.txt', 'r') as f, open('Python_Upper.txt', 'w') as new_file:\n",
    "    content = f.read()\n",
    "    upper_case = content.upper()  # Convert to upper case\n",
    "    new_file.write(upper_case)\n",
    "    \n",
    "print(\"File 'Python.txt' converted to upper case and saved as 'Python_Upper.txt'.\")\n"
   ]
  },
  {
   "cell_type": "code",
   "execution_count": null,
   "id": "1c273421",
   "metadata": {},
   "outputs": [],
   "source": []
  }
 ],
 "metadata": {
  "kernelspec": {
   "display_name": "Python 3 (ipykernel)",
   "language": "python",
   "name": "python3"
  },
  "language_info": {
   "codemirror_mode": {
    "name": "ipython",
    "version": 3
   },
   "file_extension": ".py",
   "mimetype": "text/x-python",
   "name": "python",
   "nbconvert_exporter": "python",
   "pygments_lexer": "ipython3",
   "version": "3.9.6"
  }
 },
 "nbformat": 4,
 "nbformat_minor": 5
}
